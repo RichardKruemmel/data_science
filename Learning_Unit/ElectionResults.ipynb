{
 "cells": [
  {
   "cell_type": "markdown",
   "id": "1fe6b92a",
   "metadata": {},
   "source": [
    "# Berlin Election results"
   ]
  },
  {
   "cell_type": "code",
   "execution_count": 3,
   "id": "6fd9dd51",
   "metadata": {},
   "outputs": [
    {
     "ename": "ModuleNotFoundError",
     "evalue": "No module named 'pandas'",
     "output_type": "error",
     "traceback": [
      "\u001b[0;31m---------------------------------------------------------------------------\u001b[0m",
      "\u001b[0;31mModuleNotFoundError\u001b[0m                       Traceback (most recent call last)",
      "Cell \u001b[0;32mIn[3], line 1\u001b[0m\n\u001b[0;32m----> 1\u001b[0m \u001b[39mimport\u001b[39;00m \u001b[39mpandas\u001b[39;00m \u001b[39mas\u001b[39;00m \u001b[39mpd\u001b[39;00m\n\u001b[1;32m      2\u001b[0m \u001b[39mimport\u001b[39;00m \u001b[39mseaborn\u001b[39;00m \u001b[39mas\u001b[39;00m \u001b[39msns\u001b[39;00m\n\u001b[1;32m      3\u001b[0m \u001b[39mfrom\u001b[39;00m \u001b[39mmatplotlib\u001b[39;00m \u001b[39mimport\u001b[39;00m pyplot \u001b[39mas\u001b[39;00m plt\n",
      "\u001b[0;31mModuleNotFoundError\u001b[0m: No module named 'pandas'"
     ]
    }
   ],
   "source": [
    "import pandas as pd\n",
    "import seaborn as sns\n",
    "from matplotlib import pyplot as plt"
   ]
  },
  {
   "cell_type": "markdown",
   "id": "3a24af92",
   "metadata": {},
   "source": [
    "### Enter the data"
   ]
  },
  {
   "cell_type": "code",
   "execution_count": null,
   "id": "37d881e5",
   "metadata": {},
   "outputs": [],
   "source": [
    "df = pd.DataFrame(\n",
    "    {\n",
    "        \"votes\": [18.40, 18.39, 28.23, 12.20, 9.09, 4.64, 9.05],\n",
    "    }, \n",
    "    index=[\"SPD\", \"Grüne\", \"CDU\", \"Linke\", \"AfD\", \"FDP\", \"others\"]\n",
    ")\n",
    "df"
   ]
  },
  {
   "cell_type": "code",
   "execution_count": null,
   "id": "45b5107c",
   "metadata": {},
   "outputs": [],
   "source": [
    "df.sum()"
   ]
  },
  {
   "cell_type": "markdown",
   "id": "8e0fdd9e",
   "metadata": {},
   "source": [
    "### Simple plot for ourselves"
   ]
  },
  {
   "cell_type": "code",
   "execution_count": null,
   "id": "1e9ae950",
   "metadata": {},
   "outputs": [],
   "source": [
    "df[\"votes\"].plot.bar()"
   ]
  },
  {
   "cell_type": "markdown",
   "id": "741092ee",
   "metadata": {},
   "source": [
    "### Nicer plot for other people"
   ]
  },
  {
   "cell_type": "code",
   "execution_count": null,
   "id": "aa82e8e1",
   "metadata": {},
   "outputs": [],
   "source": [
    "colors = [\"red\", \"green\", \"black\", \"purple\", \"blue\", \"yellow\", \"gray\"]\n",
    "\n",
    "sns.barplot(\n",
    "    data=df,\n",
    "    x=df.index,\n",
    "    y=\"votes\",\n",
    "    palette=colors,\n",
    ")\n",
    "\n",
    "plt.title(\"Preliminary results of the Berlin elections in February 2023\")\n",
    "plt.axhline(0, color=\"k\", clip_on=False)"
   ]
  },
  {
   "cell_type": "markdown",
   "id": "4a45c29d",
   "metadata": {},
   "source": [
    "#### Questions\n",
    "\n",
    "* is the plot correct?\n",
    "* is the plot unbiased?"
   ]
  },
  {
   "cell_type": "markdown",
   "id": "02e2085e",
   "metadata": {},
   "source": [
    "### Pie chart just because we can"
   ]
  },
  {
   "cell_type": "code",
   "execution_count": null,
   "id": "6b6ab856",
   "metadata": {},
   "outputs": [],
   "source": [
    "plt.pie(\n",
    "    df[\"votes\"],\n",
    "    labels=df.index,\n",
    "    normalize=True,\n",
    "    shadow=False,\n",
    "    colors=colors,\n",
    "    autopct=\"%1.1f%%\",\n",
    ")\n",
    "plt.title(\"Preliminary Results of the Berlin elections February 2023\")\n",
    "plt.savefig(\"piechart.png\", dpi=150)"
   ]
  },
  {
   "cell_type": "code",
   "execution_count": null,
   "id": "01da2783",
   "metadata": {},
   "outputs": [],
   "source": []
  }
 ],
 "metadata": {
  "kernelspec": {
   "display_name": "Python 3",
   "language": "python",
   "name": "python3"
  },
  "language_info": {
   "codemirror_mode": {
    "name": "ipython",
    "version": 3
   },
   "file_extension": ".py",
   "mimetype": "text/x-python",
   "name": "python",
   "nbconvert_exporter": "python",
   "pygments_lexer": "ipython3",
   "version": "3.10.9"
  },
  "vscode": {
   "interpreter": {
    "hash": "aee8b7b246df8f9039afb4144a1f6fd8d2ca17a180786b69acc140d282b71a49"
   }
  }
 },
 "nbformat": 4,
 "nbformat_minor": 5
}
